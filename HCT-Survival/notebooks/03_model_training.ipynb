{
 "cells": [
  {
   "cell_type": "code",
   "execution_count": 1,
   "metadata": {},
   "outputs": [
    {
     "name": "stderr",
     "output_type": "stream",
     "text": [
      "d:\\Kaggle\\Kaggle-HCT-Survival-Predictions\\venv\\lib\\site-packages\\tqdm\\auto.py:21: TqdmWarning: IProgress not found. Please update jupyter and ipywidgets. See https://ipywidgets.readthedocs.io/en/stable/user_install.html\n",
      "  from .autonotebook import tqdm as notebook_tqdm\n"
     ]
    }
   ],
   "source": [
    "import pandas as pd\n",
    "import tqdm as notebook_tqdm\n",
    "import matplotlib.pyplot as plt\n",
    "import seaborn as sns\n",
    "from pathlib import Path\n",
    "import os\n",
    "from sklearn.preprocessing import OneHotEncoder,StandardScaler\n",
    "from sklearn.decomposition import PCA\n",
    "from sklearn.manifold import TSNE\n",
    "from sklearn.pipeline import Pipeline\n",
    "import umap\n",
    "# import joblib\n",
    "import numpy as np\n",
    "os.environ[\"LOKY_MAX_CPU_COUNT\"] = \"6\"  # Adjust the number accordingly\n",
    "os.environ[\"CUDA_VISIBLE_DEVICES\"] = \"-1\"\n"
   ]
  },
  {
   "cell_type": "code",
   "execution_count": 2,
   "metadata": {},
   "outputs": [],
   "source": [
    "file_path=Path('../data/raw')\n",
    "train=pd.read_csv(os.path.join(file_path,'train.csv'),index_col='ID')\n",
    "test=pd.read_csv(os.path.join(file_path,'test.csv'))\n",
    "sample=pd.read_csv(os.path.join(file_path,'sample_submission.csv'))\n",
    "data=pd.read_csv(os.path.join(file_path,'data_dictionary.csv'))"
   ]
  },
  {
   "cell_type": "code",
   "execution_count": 3,
   "metadata": {},
   "outputs": [],
   "source": [
    "numerical_col=['donor_age','age_at_hct']\n",
    "target_col=['year_hct','efs_time','efs','race_group']\n",
    "categorical_col=train.drop(numerical_col+target_col,axis=1).columns"
   ]
  },
  {
   "cell_type": "code",
   "execution_count": 4,
   "metadata": {},
   "outputs": [],
   "source": [
    "from sklearn.linear_model import LogisticRegression\n",
    "from sklearn.tree import DecisionTreeClassifier\n",
    "from sklearn.ensemble import RandomForestClassifier,HistGradientBoostingClassifier\n",
    "from sklearn.svm import SVC\n",
    "from sklearn.neighbors import KNeighborsClassifier\n",
    "from catboost import CatBoostClassifier\n",
    "from lightgbm import LGBMClassifier\n",
    "from xgboost import XGBClassifier"
   ]
  },
  {
   "cell_type": "code",
   "execution_count": null,
   "metadata": {},
   "outputs": [],
   "source": [
    "# # features\n",
    "# cat_col=joblib.load('../feature_store/categorical_col.pkl')\n",
    "# num_col=joblib.load('../feature_store/numerical_col.pkl')\n",
    "# target_col=joblib.load('../feature_store/target_col.pkl')\n",
    "\n",
    "# # features encoding\n",
    "# one_hot_encoding=joblib.load('../feature_store/one_hot_encoder.pkl')\n",
    "# ss_encoding=joblib.load('../feature_store/standard_scaler.pkl')\n",
    "\n",
    "# # dimensionality reduction\n",
    "# pca_reduction=joblib.load('../feature_store/pca.pkl')\n",
    "# tsne_reduction=joblib.load('../feature_store/tsne.pkl')\n",
    "# umap_reduction=joblib.load('../feature_store/umap_encoder.pkl')\n"
   ]
  },
  {
   "cell_type": "code",
   "execution_count": 5,
   "metadata": {},
   "outputs": [],
   "source": [
    "encoding=OneHotEncoder()\n",
    "df_cat=pd.DataFrame(encoding.fit_transform(train[categorical_col]).toarray(),columns=encoding.get_feature_names_out())\n",
    "\n",
    "ss=StandardScaler()\n",
    "df_num=pd.DataFrame(ss.fit_transform(train[numerical_col]),columns=ss.get_feature_names_out())\n",
    "\n",
    "pca=PCA(n_components=2,random_state=42)\n",
    "df_pca=pd.DataFrame(pca.fit_transform(df_cat),columns=[f'pca_{i}' for i in range(2)])\n",
    "\n",
    "tsne = TSNE(n_components=2, perplexity=30, random_state=42)\n",
    "df_tsne=pd.DataFrame(tsne.fit_transform(df_cat),columns=[f'tsne_{i}' for i in range(2)])\n",
    "\n",
    "umap_reducer=umap.UMAP(n_components=2)\n",
    "df_umap=pd.DataFrame(umap_reducer.fit_transform(df_cat),columns=[f'umap_{i}' for i in range(2)])"
   ]
  },
  {
   "cell_type": "code",
   "execution_count": 11,
   "metadata": {},
   "outputs": [],
   "source": [
    "df=pd.concat([df_cat,df_num,train[target_col]],axis=1)"
   ]
  },
  {
   "cell_type": "code",
   "execution_count": 12,
   "metadata": {},
   "outputs": [
    {
     "data": {
      "text/html": [
       "<div>\n",
       "<style scoped>\n",
       "    .dataframe tbody tr th:only-of-type {\n",
       "        vertical-align: middle;\n",
       "    }\n",
       "\n",
       "    .dataframe tbody tr th {\n",
       "        vertical-align: top;\n",
       "    }\n",
       "\n",
       "    .dataframe thead th {\n",
       "        text-align: right;\n",
       "    }\n",
       "</style>\n",
       "<table border=\"1\" class=\"dataframe\">\n",
       "  <thead>\n",
       "    <tr style=\"text-align: right;\">\n",
       "      <th></th>\n",
       "      <th>dri_score_High</th>\n",
       "      <th>dri_score_High - TED AML case &lt;missing cytogenetics</th>\n",
       "      <th>dri_score_Intermediate</th>\n",
       "      <th>dri_score_Intermediate - TED AML case &lt;missing cytogenetics</th>\n",
       "      <th>dri_score_Low</th>\n",
       "      <th>dri_score_Missing disease status</th>\n",
       "      <th>dri_score_N/A - disease not classifiable</th>\n",
       "      <th>dri_score_N/A - non-malignant indication</th>\n",
       "      <th>dri_score_N/A - pediatric</th>\n",
       "      <th>dri_score_TBD cytogenetics</th>\n",
       "      <th>...</th>\n",
       "      <th>hla_low_res_10_8.0</th>\n",
       "      <th>hla_low_res_10_9.0</th>\n",
       "      <th>hla_low_res_10_10.0</th>\n",
       "      <th>hla_low_res_10_nan</th>\n",
       "      <th>donor_age</th>\n",
       "      <th>age_at_hct</th>\n",
       "      <th>year_hct</th>\n",
       "      <th>efs_time</th>\n",
       "      <th>efs</th>\n",
       "      <th>race_group</th>\n",
       "    </tr>\n",
       "  </thead>\n",
       "  <tbody>\n",
       "    <tr>\n",
       "      <th>0</th>\n",
       "      <td>0.0</td>\n",
       "      <td>0.0</td>\n",
       "      <td>0.0</td>\n",
       "      <td>0.0</td>\n",
       "      <td>0.0</td>\n",
       "      <td>0.0</td>\n",
       "      <td>0.0</td>\n",
       "      <td>1.0</td>\n",
       "      <td>0.0</td>\n",
       "      <td>0.0</td>\n",
       "      <td>...</td>\n",
       "      <td>0.0</td>\n",
       "      <td>0.0</td>\n",
       "      <td>1.0</td>\n",
       "      <td>0.0</td>\n",
       "      <td>NaN</td>\n",
       "      <td>-1.358153</td>\n",
       "      <td>2016</td>\n",
       "      <td>42.356</td>\n",
       "      <td>0.0</td>\n",
       "      <td>More than one race</td>\n",
       "    </tr>\n",
       "    <tr>\n",
       "      <th>1</th>\n",
       "      <td>0.0</td>\n",
       "      <td>0.0</td>\n",
       "      <td>1.0</td>\n",
       "      <td>0.0</td>\n",
       "      <td>0.0</td>\n",
       "      <td>0.0</td>\n",
       "      <td>0.0</td>\n",
       "      <td>0.0</td>\n",
       "      <td>0.0</td>\n",
       "      <td>0.0</td>\n",
       "      <td>...</td>\n",
       "      <td>0.0</td>\n",
       "      <td>0.0</td>\n",
       "      <td>1.0</td>\n",
       "      <td>0.0</td>\n",
       "      <td>1.952535</td>\n",
       "      <td>0.238416</td>\n",
       "      <td>2008</td>\n",
       "      <td>4.672</td>\n",
       "      <td>1.0</td>\n",
       "      <td>Asian</td>\n",
       "    </tr>\n",
       "  </tbody>\n",
       "</table>\n",
       "<p>2 rows × 302 columns</p>\n",
       "</div>"
      ],
      "text/plain": [
       "   dri_score_High  dri_score_High - TED AML case <missing cytogenetics  \\\n",
       "0             0.0                                                0.0     \n",
       "1             0.0                                                0.0     \n",
       "\n",
       "   dri_score_Intermediate  \\\n",
       "0                     0.0   \n",
       "1                     1.0   \n",
       "\n",
       "   dri_score_Intermediate - TED AML case <missing cytogenetics  dri_score_Low  \\\n",
       "0                                                0.0                      0.0   \n",
       "1                                                0.0                      0.0   \n",
       "\n",
       "   dri_score_Missing disease status  dri_score_N/A - disease not classifiable  \\\n",
       "0                               0.0                                       0.0   \n",
       "1                               0.0                                       0.0   \n",
       "\n",
       "   dri_score_N/A - non-malignant indication  dri_score_N/A - pediatric  \\\n",
       "0                                       1.0                        0.0   \n",
       "1                                       0.0                        0.0   \n",
       "\n",
       "   dri_score_TBD cytogenetics  ...  hla_low_res_10_8.0  hla_low_res_10_9.0  \\\n",
       "0                         0.0  ...                 0.0                 0.0   \n",
       "1                         0.0  ...                 0.0                 0.0   \n",
       "\n",
       "   hla_low_res_10_10.0  hla_low_res_10_nan  donor_age  age_at_hct  year_hct  \\\n",
       "0                  1.0                 0.0        NaN   -1.358153      2016   \n",
       "1                  1.0                 0.0   1.952535    0.238416      2008   \n",
       "\n",
       "   efs_time  efs          race_group  \n",
       "0    42.356  0.0  More than one race  \n",
       "1     4.672  1.0               Asian  \n",
       "\n",
       "[2 rows x 302 columns]"
      ]
     },
     "execution_count": 12,
     "metadata": {},
     "output_type": "execute_result"
    }
   ],
   "source": [
    "df.head(2)"
   ]
  },
  {
   "cell_type": "code",
   "execution_count": 6,
   "metadata": {},
   "outputs": [],
   "source": [
    "from sklearn.model_selection import train_test_split\n",
    "from sklearn.metrics import f1_score,classification_report,confusion_matrix"
   ]
  },
  {
   "cell_type": "code",
   "execution_count": 14,
   "metadata": {},
   "outputs": [],
   "source": [
    "X=df.drop(['efs_time','efs','race_group'],axis=1)\n",
    "y=df.efs\n",
    "X_train,X_valid,y_train,y_valid=train_test_split(X,y,train_size=0.8,random_state=42,stratify=y)"
   ]
  },
  {
   "cell_type": "code",
   "execution_count": 15,
   "metadata": {},
   "outputs": [
    {
     "data": {
      "text/plain": [
       "array([[1623, 1031],\n",
       "       [ 655, 2451]], dtype=int64)"
      ]
     },
     "execution_count": 15,
     "metadata": {},
     "output_type": "execute_result"
    }
   ],
   "source": [
    "model=CatBoostClassifier(random_state=42,verbose=False)\n",
    "model.fit(X_train,y_train)\n",
    "confusion_matrix(y_valid,model.predict(X_valid))"
   ]
  },
  {
   "cell_type": "code",
   "execution_count": 16,
   "metadata": {},
   "outputs": [
    {
     "data": {
      "text/plain": [
       "array([[1468, 1186],\n",
       "       [ 681, 2425]], dtype=int64)"
      ]
     },
     "execution_count": 16,
     "metadata": {},
     "output_type": "execute_result"
    }
   ],
   "source": [
    "model=RandomForestClassifier(random_state=42)\n",
    "model.fit(X_train.fillna(-999),y_train)\n",
    "confusion_matrix(y_valid,model.predict(X_valid.fillna(-999)))"
   ]
  },
  {
   "cell_type": "code",
   "execution_count": 17,
   "metadata": {},
   "outputs": [
    {
     "data": {
      "text/plain": [
       "array([[1581, 1073],\n",
       "       [ 647, 2459]], dtype=int64)"
      ]
     },
     "execution_count": 17,
     "metadata": {},
     "output_type": "execute_result"
    }
   ],
   "source": [
    "model=HistGradientBoostingClassifier()\n",
    "model.fit(X_train,y_train)\n",
    "confusion_matrix(y_valid,model.predict(X_valid))"
   ]
  },
  {
   "cell_type": "code",
   "execution_count": 18,
   "metadata": {},
   "outputs": [
    {
     "data": {
      "text/plain": [
       "array([[1595, 1059],\n",
       "       [ 774, 2332]], dtype=int64)"
      ]
     },
     "execution_count": 18,
     "metadata": {},
     "output_type": "execute_result"
    }
   ],
   "source": [
    "model=XGBClassifier(random_state=42)\n",
    "X_train.columns=[f'feature_{i}' for i in range(X_train.shape[1])]\n",
    "X_valid.columns=[f'feature_{i}' for i in range(X_train.shape[1])]\n",
    "model.fit(X_train,y_train)\n",
    "confusion_matrix(y_valid,model.predict(X_valid))"
   ]
  },
  {
   "cell_type": "code",
   "execution_count": null,
   "metadata": {},
   "outputs": [
    {
     "name": "stdout",
     "output_type": "stream",
     "text": [
      "[LightGBM] [Info] Number of positive: 12426, number of negative: 10614\n",
      "[LightGBM] [Info] Auto-choosing row-wise multi-threading, the overhead of testing was 0.005656 seconds.\n",
      "You can set `force_row_wise=true` to remove the overhead.\n",
      "And if memory is not enough, you can set `force_col_wise=true`.\n",
      "[LightGBM] [Info] Total Bins 1092\n",
      "[LightGBM] [Info] Number of data points in the train set: 23040, number of used features: 287\n",
      "[LightGBM] [Info] [binary:BoostFromScore]: pavg=0.539323 -> initscore=0.157617\n",
      "[LightGBM] [Info] Start training from score 0.157617\n"
     ]
    },
    {
     "data": {
      "text/plain": [
       "array([[1585, 1069],\n",
       "       [ 651, 2455]], dtype=int64)"
      ]
     },
     "execution_count": 19,
     "metadata": {},
     "output_type": "execute_result"
    },
    {
     "ename": "",
     "evalue": "",
     "output_type": "error",
     "traceback": [
      "\u001b[1;31mThe Kernel crashed while executing code in the current cell or a previous cell. \n",
      "\u001b[1;31mPlease review the code in the cell(s) to identify a possible cause of the failure. \n",
      "\u001b[1;31mClick <a href='https://aka.ms/vscodeJupyterKernelCrash'>here</a> for more info. \n",
      "\u001b[1;31mView Jupyter <a href='command:jupyter.viewOutput'>log</a> for further details."
     ]
    }
   ],
   "source": [
    "model=LGBMClassifier(random_state=42)\n",
    "# X_train.columns=[f'feature_{i}' for i in range(X_train.shape[1])]\n",
    "# X_valid.columns=[f'feature_{i}' for i in range(X_train.shape[1])]\n",
    "model.fit(X_train,y_train)\n",
    "confusion_matrix(y_valid,model.predict(X_valid))"
   ]
  },
  {
   "cell_type": "code",
   "execution_count": 41,
   "metadata": {},
   "outputs": [
    {
     "data": {
      "text/plain": [
       "array([[1585, 1069],\n",
       "       [ 651, 2455]], dtype=int64)"
      ]
     },
     "execution_count": 41,
     "metadata": {},
     "output_type": "execute_result"
    }
   ],
   "source": [
    "model=LGBMClassifier(random_state=42)\n",
    "# X_train.columns=[f'feature_{i}' for i in range(X_train.shape[1])]\n",
    "# X_valid.columns=[f'feature_{i}' for i in range(X_train.shape[1])]\n",
    "model.fit(X_train,y_train)\n",
    "confusion_matrix(y_valid,model.predict(X_valid))"
   ]
  },
  {
   "cell_type": "code",
   "execution_count": 43,
   "metadata": {},
   "outputs": [
    {
     "data": {
      "text/plain": [
       "array([[1375, 1279],\n",
       "       [ 699, 2407]], dtype=int64)"
      ]
     },
     "execution_count": 43,
     "metadata": {},
     "output_type": "execute_result"
    }
   ],
   "source": [
    "df=pd.concat([df_tsne,df_num,train[target_col]],axis=1)\n",
    "X=df.drop(['efs_time','efs','race_group'],axis=1)\n",
    "y=df.efs\n",
    "X_train,X_valid,y_train,y_valid=train_test_split(X,y,train_size=0.8,random_state=42,stratify=y)\n",
    "model=CatBoostClassifier(random_state=42,verbose=False)\n",
    "model.fit(X_train,y_train)\n",
    "confusion_matrix(y_valid,model.predict(X_valid))"
   ]
  },
  {
   "cell_type": "code",
   "execution_count": 44,
   "metadata": {},
   "outputs": [
    {
     "data": {
      "text/plain": [
       "array([[1255, 1399],\n",
       "       [ 688, 2418]], dtype=int64)"
      ]
     },
     "execution_count": 44,
     "metadata": {},
     "output_type": "execute_result"
    }
   ],
   "source": [
    "df=pd.concat([df_pca,df_num,train[target_col]],axis=1)\n",
    "X=df.drop(['efs_time','efs','race_group'],axis=1)\n",
    "y=df.efs\n",
    "X_train,X_valid,y_train,y_valid=train_test_split(X,y,train_size=0.8,random_state=42,stratify=y)\n",
    "model=CatBoostClassifier(random_state=42,verbose=False)\n",
    "model.fit(X_train,y_train)\n",
    "confusion_matrix(y_valid,model.predict(X_valid))"
   ]
  },
  {
   "cell_type": "code",
   "execution_count": 45,
   "metadata": {},
   "outputs": [
    {
     "data": {
      "text/plain": [
       "array([[1339, 1315],\n",
       "       [ 710, 2396]], dtype=int64)"
      ]
     },
     "execution_count": 45,
     "metadata": {},
     "output_type": "execute_result"
    }
   ],
   "source": [
    "df=pd.concat([df_umap,df_num,train[target_col]],axis=1)\n",
    "X=df.drop(['efs_time','efs','race_group'],axis=1)\n",
    "y=df.efs\n",
    "X_train,X_valid,y_train,y_valid=train_test_split(X,y,train_size=0.8,random_state=42,stratify=y)\n",
    "model=CatBoostClassifier(random_state=42,verbose=False)\n",
    "model.fit(X_train,y_train)\n",
    "confusion_matrix(y_valid,model.predict(X_valid))"
   ]
  },
  {
   "cell_type": "code",
   "execution_count": null,
   "metadata": {},
   "outputs": [
    {
     "data": {
      "text/plain": [
       "array([[1387, 1267],\n",
       "       [ 709, 2397]], dtype=int64)"
      ]
     },
     "execution_count": 46,
     "metadata": {},
     "output_type": "execute_result"
    }
   ],
   "source": [
    "df=pd.concat([df_tsne,df_pca,df_umap,df_num,train[target_col]],axis=1)\n",
    "X=df.drop(['efs_time','efs','race_group'],axis=1)\n",
    "y=df.efs\n",
    "X_train,X_valid,y_train,y_valid=train_test_split(X,y,train_size=0.8,random_state=42,stratify=y)\n",
    "model=CatBoostClassifier(random_state=42,verbose=False)\n",
    "model.fit(X_train,y_train)\n",
    "confusion_matrix(y_valid,model.predict(X_valid))"
   ]
  },
  {
   "cell_type": "code",
   "execution_count": null,
   "metadata": {},
   "outputs": [
    {
     "data": {
      "text/plain": [
       "array([[1625, 1029],\n",
       "       [ 658, 2448]], dtype=int64)"
      ]
     },
     "execution_count": 47,
     "metadata": {},
     "output_type": "execute_result"
    }
   ],
   "source": [
    "df=pd.concat([df_cat,df_tsne,df_pca,df_umap,df_num,train[target_col]],axis=1)\n",
    "X=df.drop(['efs_time','efs','race_group'],axis=1)\n",
    "y=df.efs\n",
    "X_train,X_valid,y_train,y_valid=train_test_split(X,y,train_size=0.8,random_state=42,stratify=y)\n",
    "model=CatBoostClassifier(random_state=42,verbose=False)\n",
    "model.fit(X_train,y_train)\n",
    "confusion_matrix(y_valid,model.predict(X_valid))"
   ]
  },
  {
   "cell_type": "code",
   "execution_count": 48,
   "metadata": {},
   "outputs": [
    {
     "data": {
      "text/plain": [
       "array([[1642, 1012],\n",
       "       [ 645, 2461]], dtype=int64)"
      ]
     },
     "execution_count": 48,
     "metadata": {},
     "output_type": "execute_result"
    }
   ],
   "source": [
    "df=pd.concat([df_cat,df_tsne,df_umap,df_num,train[target_col]],axis=1)\n",
    "X=df.drop(['efs_time','efs','race_group'],axis=1)\n",
    "y=df.efs\n",
    "X_train,X_valid,y_train,y_valid=train_test_split(X,y,train_size=0.8,random_state=42,stratify=y)\n",
    "model=CatBoostClassifier(random_state=42,verbose=False)\n",
    "model.fit(X_train,y_train)\n",
    "confusion_matrix(y_valid,model.predict(X_valid))"
   ]
  },
  {
   "cell_type": "code",
   "execution_count": 50,
   "metadata": {},
   "outputs": [
    {
     "data": {
      "text/plain": [
       "array([[1631, 1023],\n",
       "       [ 656, 2450]], dtype=int64)"
      ]
     },
     "execution_count": 50,
     "metadata": {},
     "output_type": "execute_result"
    }
   ],
   "source": [
    "df=pd.concat([df_cat,df_tsne,df_num,train[target_col]],axis=1)\n",
    "X=df.drop(['efs_time','efs','race_group'],axis=1)\n",
    "y=df.efs\n",
    "X_train,X_valid,y_train,y_valid=train_test_split(X,y,train_size=0.8,random_state=42,stratify=y)\n",
    "model=CatBoostClassifier(random_state=42,verbose=False)\n",
    "model.fit(X_train,y_train)\n",
    "confusion_matrix(y_valid,model.predict(X_valid))"
   ]
  },
  {
   "cell_type": "code",
   "execution_count": 7,
   "metadata": {},
   "outputs": [
    {
     "data": {
      "text/plain": [
       "array([[1618, 1036],\n",
       "       [ 664, 2442]], dtype=int64)"
      ]
     },
     "execution_count": 7,
     "metadata": {},
     "output_type": "execute_result"
    }
   ],
   "source": [
    "df=pd.concat([df_cat,df_tsne,df_umap,df_num,train[target_col]],axis=1)\n",
    "X=df.drop(['efs_time','efs','race_group'],axis=1)\n",
    "y=df.efs\n",
    "X_train,X_valid,y_train,y_valid=train_test_split(X,y,train_size=0.8,random_state=42,stratify=y)\n",
    "model=CatBoostClassifier(random_state=42,verbose=False)\n",
    "model.fit(X_train,y_train)\n",
    "confusion_matrix(y_valid,model.predict(X_valid))"
   ]
  },
  {
   "cell_type": "code",
   "execution_count": 11,
   "metadata": {},
   "outputs": [
    {
     "data": {
      "text/plain": [
       "array([[1631, 1023],\n",
       "       [ 656, 2450]], dtype=int64)"
      ]
     },
     "execution_count": 11,
     "metadata": {},
     "output_type": "execute_result"
    }
   ],
   "source": [
    "df=pd.concat([df_cat,df_tsne,df_num,train[target_col]],axis=1)\n",
    "X=df.drop(['efs_time','efs','race_group'],axis=1)\n",
    "y=df.efs\n",
    "X_train,X_valid,y_train,y_valid=train_test_split(X,y,train_size=0.8,random_state=42,stratify=y)\n",
    "model=CatBoostClassifier(random_state=42,verbose=False)\n",
    "model.fit(X_train,y_train)\n",
    "confusion_matrix(y_valid,model.predict(X_valid))"
   ]
  },
  {
   "cell_type": "code",
   "execution_count": 26,
   "metadata": {},
   "outputs": [
    {
     "data": {
      "text/plain": [
       "array([[1621, 1033],\n",
       "       [ 669, 2437]], dtype=int64)"
      ]
     },
     "execution_count": 26,
     "metadata": {},
     "output_type": "execute_result"
    }
   ],
   "source": [
    "df=pd.concat([df_cat,df_umap,df_pca,df_num,train[target_col]],axis=1)\n",
    "X=df.drop(['efs_time','efs','race_group'],axis=1)\n",
    "y=df.efs\n",
    "X_train,X_valid,y_train,y_valid=train_test_split(X,y,train_size=0.8,random_state=42,stratify=y)\n",
    "model=CatBoostClassifier(random_state=42,verbose=False)\n",
    "model.fit(X_train,y_train)\n",
    "confusion_matrix(y_valid,model.predict(X_valid))"
   ]
  },
  {
   "cell_type": "code",
   "execution_count": 27,
   "metadata": {},
   "outputs": [
    {
     "name": "stdout",
     "output_type": "stream",
     "text": [
      "              precision    recall  f1-score   support\n",
      "\n",
      "         0.0       0.71      0.61      0.66      2654\n",
      "         1.0       0.70      0.78      0.74      3106\n",
      "\n",
      "    accuracy                           0.70      5760\n",
      "   macro avg       0.71      0.70      0.70      5760\n",
      "weighted avg       0.70      0.70      0.70      5760\n",
      "\n"
     ]
    }
   ],
   "source": [
    "print(classification_report(y_valid,model.predict(X_valid)))"
   ]
  },
  {
   "cell_type": "code",
   "execution_count": 93,
   "metadata": {},
   "outputs": [],
   "source": [
    "df_temp=train.loc[y_train.index,['efs','efs_time']].copy()\n",
    "# df_temp.loc[(df_temp.efs==1)&(df_temp.efs_time>10),'efs']=0\n"
   ]
  },
  {
   "cell_type": "code",
   "execution_count": 95,
   "metadata": {},
   "outputs": [
    {
     "data": {
      "text/plain": [
       "Int64Index([ 2655, 20984,   262, 10756, 18645, 10645, 16998,  8555, 19415,\n",
       "            22188,\n",
       "            ...\n",
       "            20849,  7764,  5145, 27968, 24841, 19904, 26993, 11668, 18897,\n",
       "            13374],\n",
       "           dtype='int64', length=901)"
      ]
     },
     "execution_count": 95,
     "metadata": {},
     "output_type": "execute_result"
    }
   ],
   "source": [
    "df_temp.loc[(df_temp.efs==1)&(df_temp.efs_time>10),'efs'].index"
   ]
  },
  {
   "cell_type": "code",
   "execution_count": 89,
   "metadata": {},
   "outputs": [],
   "source": [
    "# df_temp[df_temp.efs==0].describe()"
   ]
  },
  {
   "cell_type": "code",
   "execution_count": 90,
   "metadata": {},
   "outputs": [],
   "source": [
    "# df_temp[df_temp.efs==0].describe()"
   ]
  },
  {
   "cell_type": "code",
   "execution_count": 110,
   "metadata": {},
   "outputs": [
    {
     "data": {
      "text/html": [
       "<div>\n",
       "<style scoped>\n",
       "    .dataframe tbody tr th:only-of-type {\n",
       "        vertical-align: middle;\n",
       "    }\n",
       "\n",
       "    .dataframe tbody tr th {\n",
       "        vertical-align: top;\n",
       "    }\n",
       "\n",
       "    .dataframe thead th {\n",
       "        text-align: right;\n",
       "    }\n",
       "</style>\n",
       "<table border=\"1\" class=\"dataframe\">\n",
       "  <thead>\n",
       "    <tr style=\"text-align: right;\">\n",
       "      <th></th>\n",
       "      <th>dri_score_High</th>\n",
       "      <th>dri_score_High - TED AML case &lt;missing cytogenetics</th>\n",
       "      <th>dri_score_Intermediate</th>\n",
       "      <th>dri_score_Intermediate - TED AML case &lt;missing cytogenetics</th>\n",
       "      <th>dri_score_Low</th>\n",
       "      <th>dri_score_Missing disease status</th>\n",
       "      <th>dri_score_N/A - disease not classifiable</th>\n",
       "      <th>dri_score_N/A - non-malignant indication</th>\n",
       "      <th>dri_score_N/A - pediatric</th>\n",
       "      <th>dri_score_TBD cytogenetics</th>\n",
       "      <th>...</th>\n",
       "      <th>hla_low_res_10_9.0</th>\n",
       "      <th>hla_low_res_10_10.0</th>\n",
       "      <th>hla_low_res_10_nan</th>\n",
       "      <th>umap_0</th>\n",
       "      <th>umap_1</th>\n",
       "      <th>pca_0</th>\n",
       "      <th>pca_1</th>\n",
       "      <th>donor_age</th>\n",
       "      <th>age_at_hct</th>\n",
       "      <th>year_hct</th>\n",
       "    </tr>\n",
       "  </thead>\n",
       "  <tbody>\n",
       "    <tr>\n",
       "      <th>26919</th>\n",
       "      <td>1.0</td>\n",
       "      <td>0.0</td>\n",
       "      <td>0.0</td>\n",
       "      <td>0.0</td>\n",
       "      <td>0.0</td>\n",
       "      <td>0.0</td>\n",
       "      <td>0.0</td>\n",
       "      <td>0.0</td>\n",
       "      <td>0.0</td>\n",
       "      <td>0.0</td>\n",
       "      <td>...</td>\n",
       "      <td>0.0</td>\n",
       "      <td>1.0</td>\n",
       "      <td>0.0</td>\n",
       "      <td>-3.184205</td>\n",
       "      <td>9.072546</td>\n",
       "      <td>-2.398211</td>\n",
       "      <td>-0.547498</td>\n",
       "      <td>-1.201915</td>\n",
       "      <td>1.245547</td>\n",
       "      <td>2016</td>\n",
       "    </tr>\n",
       "    <tr>\n",
       "      <th>25266</th>\n",
       "      <td>0.0</td>\n",
       "      <td>0.0</td>\n",
       "      <td>0.0</td>\n",
       "      <td>0.0</td>\n",
       "      <td>0.0</td>\n",
       "      <td>0.0</td>\n",
       "      <td>0.0</td>\n",
       "      <td>0.0</td>\n",
       "      <td>1.0</td>\n",
       "      <td>0.0</td>\n",
       "      <td>...</td>\n",
       "      <td>0.0</td>\n",
       "      <td>0.0</td>\n",
       "      <td>1.0</td>\n",
       "      <td>4.700313</td>\n",
       "      <td>1.120443</td>\n",
       "      <td>2.228583</td>\n",
       "      <td>2.376828</td>\n",
       "      <td>-0.701101</td>\n",
       "      <td>-1.826206</td>\n",
       "      <td>2016</td>\n",
       "    </tr>\n",
       "    <tr>\n",
       "      <th>11236</th>\n",
       "      <td>0.0</td>\n",
       "      <td>0.0</td>\n",
       "      <td>0.0</td>\n",
       "      <td>0.0</td>\n",
       "      <td>0.0</td>\n",
       "      <td>0.0</td>\n",
       "      <td>0.0</td>\n",
       "      <td>0.0</td>\n",
       "      <td>1.0</td>\n",
       "      <td>0.0</td>\n",
       "      <td>...</td>\n",
       "      <td>0.0</td>\n",
       "      <td>1.0</td>\n",
       "      <td>0.0</td>\n",
       "      <td>-3.733342</td>\n",
       "      <td>8.847235</td>\n",
       "      <td>-2.462920</td>\n",
       "      <td>-0.323898</td>\n",
       "      <td>-1.580772</td>\n",
       "      <td>0.867530</td>\n",
       "      <td>2018</td>\n",
       "    </tr>\n",
       "    <tr>\n",
       "      <th>18891</th>\n",
       "      <td>0.0</td>\n",
       "      <td>0.0</td>\n",
       "      <td>1.0</td>\n",
       "      <td>0.0</td>\n",
       "      <td>0.0</td>\n",
       "      <td>0.0</td>\n",
       "      <td>0.0</td>\n",
       "      <td>0.0</td>\n",
       "      <td>0.0</td>\n",
       "      <td>0.0</td>\n",
       "      <td>...</td>\n",
       "      <td>0.0</td>\n",
       "      <td>1.0</td>\n",
       "      <td>0.0</td>\n",
       "      <td>-4.514463</td>\n",
       "      <td>7.551953</td>\n",
       "      <td>-2.023453</td>\n",
       "      <td>-0.830030</td>\n",
       "      <td>2.028398</td>\n",
       "      <td>-1.826206</td>\n",
       "      <td>2014</td>\n",
       "    </tr>\n",
       "    <tr>\n",
       "      <th>18917</th>\n",
       "      <td>0.0</td>\n",
       "      <td>0.0</td>\n",
       "      <td>0.0</td>\n",
       "      <td>0.0</td>\n",
       "      <td>0.0</td>\n",
       "      <td>0.0</td>\n",
       "      <td>0.0</td>\n",
       "      <td>0.0</td>\n",
       "      <td>1.0</td>\n",
       "      <td>0.0</td>\n",
       "      <td>...</td>\n",
       "      <td>0.0</td>\n",
       "      <td>0.0</td>\n",
       "      <td>0.0</td>\n",
       "      <td>11.558124</td>\n",
       "      <td>8.428111</td>\n",
       "      <td>3.728572</td>\n",
       "      <td>-1.888998</td>\n",
       "      <td>1.519388</td>\n",
       "      <td>-0.318915</td>\n",
       "      <td>2016</td>\n",
       "    </tr>\n",
       "    <tr>\n",
       "      <th>...</th>\n",
       "      <td>...</td>\n",
       "      <td>...</td>\n",
       "      <td>...</td>\n",
       "      <td>...</td>\n",
       "      <td>...</td>\n",
       "      <td>...</td>\n",
       "      <td>...</td>\n",
       "      <td>...</td>\n",
       "      <td>...</td>\n",
       "      <td>...</td>\n",
       "      <td>...</td>\n",
       "      <td>...</td>\n",
       "      <td>...</td>\n",
       "      <td>...</td>\n",
       "      <td>...</td>\n",
       "      <td>...</td>\n",
       "      <td>...</td>\n",
       "      <td>...</td>\n",
       "      <td>...</td>\n",
       "      <td>...</td>\n",
       "      <td>...</td>\n",
       "    </tr>\n",
       "    <tr>\n",
       "      <th>96</th>\n",
       "      <td>0.0</td>\n",
       "      <td>0.0</td>\n",
       "      <td>1.0</td>\n",
       "      <td>0.0</td>\n",
       "      <td>0.0</td>\n",
       "      <td>0.0</td>\n",
       "      <td>0.0</td>\n",
       "      <td>0.0</td>\n",
       "      <td>0.0</td>\n",
       "      <td>0.0</td>\n",
       "      <td>...</td>\n",
       "      <td>0.0</td>\n",
       "      <td>1.0</td>\n",
       "      <td>0.0</td>\n",
       "      <td>-3.305656</td>\n",
       "      <td>9.955767</td>\n",
       "      <td>-2.432485</td>\n",
       "      <td>-0.343952</td>\n",
       "      <td>-0.308999</td>\n",
       "      <td>0.639226</td>\n",
       "      <td>2018</td>\n",
       "    </tr>\n",
       "    <tr>\n",
       "      <th>5916</th>\n",
       "      <td>0.0</td>\n",
       "      <td>0.0</td>\n",
       "      <td>1.0</td>\n",
       "      <td>0.0</td>\n",
       "      <td>0.0</td>\n",
       "      <td>0.0</td>\n",
       "      <td>0.0</td>\n",
       "      <td>0.0</td>\n",
       "      <td>0.0</td>\n",
       "      <td>0.0</td>\n",
       "      <td>...</td>\n",
       "      <td>0.0</td>\n",
       "      <td>1.0</td>\n",
       "      <td>0.0</td>\n",
       "      <td>2.444310</td>\n",
       "      <td>4.102546</td>\n",
       "      <td>0.323434</td>\n",
       "      <td>1.706999</td>\n",
       "      <td>-0.709362</td>\n",
       "      <td>1.096969</td>\n",
       "      <td>2011</td>\n",
       "    </tr>\n",
       "    <tr>\n",
       "      <th>8930</th>\n",
       "      <td>0.0</td>\n",
       "      <td>0.0</td>\n",
       "      <td>0.0</td>\n",
       "      <td>0.0</td>\n",
       "      <td>1.0</td>\n",
       "      <td>0.0</td>\n",
       "      <td>0.0</td>\n",
       "      <td>0.0</td>\n",
       "      <td>0.0</td>\n",
       "      <td>0.0</td>\n",
       "      <td>...</td>\n",
       "      <td>0.0</td>\n",
       "      <td>1.0</td>\n",
       "      <td>0.0</td>\n",
       "      <td>2.145144</td>\n",
       "      <td>4.006128</td>\n",
       "      <td>-0.631795</td>\n",
       "      <td>1.308960</td>\n",
       "      <td>1.046505</td>\n",
       "      <td>0.338477</td>\n",
       "      <td>2016</td>\n",
       "    </tr>\n",
       "    <tr>\n",
       "      <th>7146</th>\n",
       "      <td>0.0</td>\n",
       "      <td>0.0</td>\n",
       "      <td>0.0</td>\n",
       "      <td>0.0</td>\n",
       "      <td>1.0</td>\n",
       "      <td>0.0</td>\n",
       "      <td>0.0</td>\n",
       "      <td>0.0</td>\n",
       "      <td>0.0</td>\n",
       "      <td>0.0</td>\n",
       "      <td>...</td>\n",
       "      <td>0.0</td>\n",
       "      <td>0.0</td>\n",
       "      <td>1.0</td>\n",
       "      <td>1.134377</td>\n",
       "      <td>5.598875</td>\n",
       "      <td>-1.394535</td>\n",
       "      <td>0.799542</td>\n",
       "      <td>0.507398</td>\n",
       "      <td>1.287301</td>\n",
       "      <td>2018</td>\n",
       "    </tr>\n",
       "    <tr>\n",
       "      <th>2244</th>\n",
       "      <td>0.0</td>\n",
       "      <td>0.0</td>\n",
       "      <td>1.0</td>\n",
       "      <td>0.0</td>\n",
       "      <td>0.0</td>\n",
       "      <td>0.0</td>\n",
       "      <td>0.0</td>\n",
       "      <td>0.0</td>\n",
       "      <td>0.0</td>\n",
       "      <td>0.0</td>\n",
       "      <td>...</td>\n",
       "      <td>0.0</td>\n",
       "      <td>0.0</td>\n",
       "      <td>0.0</td>\n",
       "      <td>5.328950</td>\n",
       "      <td>10.227856</td>\n",
       "      <td>0.667379</td>\n",
       "      <td>-0.146072</td>\n",
       "      <td>-0.174714</td>\n",
       "      <td>-0.614699</td>\n",
       "      <td>2008</td>\n",
       "    </tr>\n",
       "  </tbody>\n",
       "</table>\n",
       "<p>22138 rows × 303 columns</p>\n",
       "</div>"
      ],
      "text/plain": [
       "       dri_score_High  dri_score_High - TED AML case <missing cytogenetics  \\\n",
       "26919             1.0                                                0.0     \n",
       "25266             0.0                                                0.0     \n",
       "11236             0.0                                                0.0     \n",
       "18891             0.0                                                0.0     \n",
       "18917             0.0                                                0.0     \n",
       "...               ...                                                ...     \n",
       "96                0.0                                                0.0     \n",
       "5916              0.0                                                0.0     \n",
       "8930              0.0                                                0.0     \n",
       "7146              0.0                                                0.0     \n",
       "2244              0.0                                                0.0     \n",
       "\n",
       "       dri_score_Intermediate  \\\n",
       "26919                     0.0   \n",
       "25266                     0.0   \n",
       "11236                     0.0   \n",
       "18891                     1.0   \n",
       "18917                     0.0   \n",
       "...                       ...   \n",
       "96                        1.0   \n",
       "5916                      1.0   \n",
       "8930                      0.0   \n",
       "7146                      0.0   \n",
       "2244                      1.0   \n",
       "\n",
       "       dri_score_Intermediate - TED AML case <missing cytogenetics  \\\n",
       "26919                                                0.0             \n",
       "25266                                                0.0             \n",
       "11236                                                0.0             \n",
       "18891                                                0.0             \n",
       "18917                                                0.0             \n",
       "...                                                  ...             \n",
       "96                                                   0.0             \n",
       "5916                                                 0.0             \n",
       "8930                                                 0.0             \n",
       "7146                                                 0.0             \n",
       "2244                                                 0.0             \n",
       "\n",
       "       dri_score_Low  dri_score_Missing disease status  \\\n",
       "26919            0.0                               0.0   \n",
       "25266            0.0                               0.0   \n",
       "11236            0.0                               0.0   \n",
       "18891            0.0                               0.0   \n",
       "18917            0.0                               0.0   \n",
       "...              ...                               ...   \n",
       "96               0.0                               0.0   \n",
       "5916             0.0                               0.0   \n",
       "8930             1.0                               0.0   \n",
       "7146             1.0                               0.0   \n",
       "2244             0.0                               0.0   \n",
       "\n",
       "       dri_score_N/A - disease not classifiable  \\\n",
       "26919                                       0.0   \n",
       "25266                                       0.0   \n",
       "11236                                       0.0   \n",
       "18891                                       0.0   \n",
       "18917                                       0.0   \n",
       "...                                         ...   \n",
       "96                                          0.0   \n",
       "5916                                        0.0   \n",
       "8930                                        0.0   \n",
       "7146                                        0.0   \n",
       "2244                                        0.0   \n",
       "\n",
       "       dri_score_N/A - non-malignant indication  dri_score_N/A - pediatric  \\\n",
       "26919                                       0.0                        0.0   \n",
       "25266                                       0.0                        1.0   \n",
       "11236                                       0.0                        1.0   \n",
       "18891                                       0.0                        0.0   \n",
       "18917                                       0.0                        1.0   \n",
       "...                                         ...                        ...   \n",
       "96                                          0.0                        0.0   \n",
       "5916                                        0.0                        0.0   \n",
       "8930                                        0.0                        0.0   \n",
       "7146                                        0.0                        0.0   \n",
       "2244                                        0.0                        0.0   \n",
       "\n",
       "       dri_score_TBD cytogenetics  ...  hla_low_res_10_9.0  \\\n",
       "26919                         0.0  ...                 0.0   \n",
       "25266                         0.0  ...                 0.0   \n",
       "11236                         0.0  ...                 0.0   \n",
       "18891                         0.0  ...                 0.0   \n",
       "18917                         0.0  ...                 0.0   \n",
       "...                           ...  ...                 ...   \n",
       "96                            0.0  ...                 0.0   \n",
       "5916                          0.0  ...                 0.0   \n",
       "8930                          0.0  ...                 0.0   \n",
       "7146                          0.0  ...                 0.0   \n",
       "2244                          0.0  ...                 0.0   \n",
       "\n",
       "       hla_low_res_10_10.0  hla_low_res_10_nan     umap_0     umap_1  \\\n",
       "26919                  1.0                 0.0  -3.184205   9.072546   \n",
       "25266                  0.0                 1.0   4.700313   1.120443   \n",
       "11236                  1.0                 0.0  -3.733342   8.847235   \n",
       "18891                  1.0                 0.0  -4.514463   7.551953   \n",
       "18917                  0.0                 0.0  11.558124   8.428111   \n",
       "...                    ...                 ...        ...        ...   \n",
       "96                     1.0                 0.0  -3.305656   9.955767   \n",
       "5916                   1.0                 0.0   2.444310   4.102546   \n",
       "8930                   1.0                 0.0   2.145144   4.006128   \n",
       "7146                   0.0                 1.0   1.134377   5.598875   \n",
       "2244                   0.0                 0.0   5.328950  10.227856   \n",
       "\n",
       "          pca_0     pca_1  donor_age  age_at_hct  year_hct  \n",
       "26919 -2.398211 -0.547498  -1.201915    1.245547      2016  \n",
       "25266  2.228583  2.376828  -0.701101   -1.826206      2016  \n",
       "11236 -2.462920 -0.323898  -1.580772    0.867530      2018  \n",
       "18891 -2.023453 -0.830030   2.028398   -1.826206      2014  \n",
       "18917  3.728572 -1.888998   1.519388   -0.318915      2016  \n",
       "...         ...       ...        ...         ...       ...  \n",
       "96    -2.432485 -0.343952  -0.308999    0.639226      2018  \n",
       "5916   0.323434  1.706999  -0.709362    1.096969      2011  \n",
       "8930  -0.631795  1.308960   1.046505    0.338477      2016  \n",
       "7146  -1.394535  0.799542   0.507398    1.287301      2018  \n",
       "2244   0.667379 -0.146072  -0.174714   -0.614699      2008  \n",
       "\n",
       "[22138 rows x 303 columns]"
      ]
     },
     "execution_count": 110,
     "metadata": {},
     "output_type": "execute_result"
    }
   ],
   "source": [
    "X_train.loc[(df_temp.loc[((df_temp.efs==1)&(df_temp.efs_time<10))|(df_temp.efs==0),'efs'].index),:]"
   ]
  },
  {
   "cell_type": "code",
   "execution_count": null,
   "metadata": {},
   "outputs": [
    {
     "data": {
      "text/plain": [
       "array([[2265,  389],\n",
       "       [1925, 1181]], dtype=int64)"
      ]
     },
     "execution_count": 84,
     "metadata": {},
     "output_type": "execute_result"
    }
   ],
   "source": [
    "df=pd.concat([df_cat,df_umap,df_pca,df_num,train[target_col]],axis=1)\n",
    "X=df.drop(['efs_time','efs','race_group'],axis=1)\n",
    "y=df.efs\n",
    "X_train,X_valid,y_train,y_valid=train_test_split(X,y,train_size=0.8,random_state=42,stratify=y)\n",
    "y_train=df_temp.efs\n",
    "model=CatBoostClassifier(random_state=42,verbose=False)\n",
    "model.fit(X_train,y_train)\n",
    "confusion_matrix(y_valid,model.predict(X_valid))"
   ]
  },
  {
   "cell_type": "code",
   "execution_count": 123,
   "metadata": {},
   "outputs": [
    {
     "data": {
      "text/plain": [
       "array([[1615, 1039],\n",
       "       [ 651, 2455]], dtype=int64)"
      ]
     },
     "execution_count": 123,
     "metadata": {},
     "output_type": "execute_result"
    }
   ],
   "source": [
    "df=pd.concat([df_cat,df_umap,df_num,train[target_col]],axis=1)\n",
    "X=df.drop(['efs_time','efs','race_group'],axis=1)\n",
    "y=df.efs\n",
    "X_train,X_valid,y_train,y_valid=train_test_split(X,y,train_size=0.8,random_state=42,stratify=y)\n",
    "X_train=X_train.loc[(df_temp.loc[((df_temp.efs==1)&(df_temp.efs_time<40))|((df_temp.efs==0)&(df_temp.efs_time<200)),'efs'].index),:]\n",
    "y_train=y_train.loc[(df_temp.loc[((df_temp.efs==1)&(df_temp.efs_time<40))|((df_temp.efs==0)&(df_temp.efs_time<200)),'efs'].index)]\n",
    "model=CatBoostClassifier(random_state=42,verbose=False)\n",
    "model.fit(X_train,y_train)\n",
    "confusion_matrix(y_valid,model.predict(X_valid))"
   ]
  },
  {
   "cell_type": "code",
   "execution_count": 7,
   "metadata": {},
   "outputs": [],
   "source": [
    "from sklearn.ensemble import VotingClassifier,StackingClassifier"
   ]
  },
  {
   "cell_type": "code",
   "execution_count": null,
   "metadata": {},
   "outputs": [],
   "source": [
    "df_temp=train.loc[y_train.index,['efs','efs_time']].copy()\n",
    "df=pd.concat([df_cat,df_umap,df_num,train[target_col]],axis=1)\n",
    "X=df.drop(['efs_time','efs','race_group'],axis=1)\n",
    "y=df.efs\n",
    "X.columns=[f'feature_{i}' for i in range(X.shape[1])]\n",
    "X_train,X_valid,y_train,y_valid=train_test_split(X,y,train_size=0.8,stratify=y)\n",
    "X_train=X_train.loc[(df_temp.loc[((df_temp.efs==1)&(df_temp.efs_time<7))|((df_temp.efs==0)&(df_temp.efs_time<200)),'efs'].index),:]\n",
    "y_train=y_train.loc[(df_temp.loc[((df_temp.efs==1)&(df_temp.efs_time<7))|((df_temp.efs==0)&(df_temp.efs_time<200)),'efs'].index)]\n",
    "model=Pipeline(steps=[\n",
    "    ('voting',VotingClassifier([\n",
    "    ('cat',CatBoostClassifier(random_state=42,verbose=False)),\n",
    "    ('xgb',XGBClassifier(random_state=42))\n",
    "    ]))\n",
    "])\n",
    "model.fit(X_train,y_train)\n",
    "confusion_matrix(y_valid,model.predict(X_valid))"
   ]
  },
  {
   "cell_type": "code",
   "execution_count": null,
   "metadata": {},
   "outputs": [
    {
     "name": "stdout",
     "output_type": "stream",
     "text": [
      "              precision    recall  f1-score   support\n",
      "\n",
      "         0.0       0.67      0.68      0.68      2654\n",
      "         1.0       0.72      0.71      0.72      3106\n",
      "\n",
      "    accuracy                           0.70      5760\n",
      "   macro avg       0.70      0.70      0.70      5760\n",
      "weighted avg       0.70      0.70      0.70      5760\n",
      "\n"
     ]
    },
    {
     "ename": "",
     "evalue": "",
     "output_type": "error",
     "traceback": [
      "\u001b[1;31mThe Kernel crashed while executing code in the current cell or a previous cell. \n",
      "\u001b[1;31mPlease review the code in the cell(s) to identify a possible cause of the failure. \n",
      "\u001b[1;31mClick <a href='https://aka.ms/vscodeJupyterKernelCrash'>here</a> for more info. \n",
      "\u001b[1;31mView Jupyter <a href='command:jupyter.viewOutput'>log</a> for further details."
     ]
    }
   ],
   "source": [
    "print(classification_report(y_valid,model.predict(X_valid)))"
   ]
  },
  {
   "cell_type": "code",
   "execution_count": 112,
   "metadata": {},
   "outputs": [
    {
     "name": "stdout",
     "output_type": "stream",
     "text": [
      "              precision    recall  f1-score   support\n",
      "\n",
      "         0.0       0.69      0.65      0.67      2654\n",
      "         1.0       0.71      0.76      0.74      3106\n",
      "\n",
      "    accuracy                           0.71      5760\n",
      "   macro avg       0.70      0.70      0.70      5760\n",
      "weighted avg       0.71      0.71      0.71      5760\n",
      "\n"
     ]
    }
   ],
   "source": [
    "print(classification_report(y_valid,model.predict(X_valid)))"
   ]
  },
  {
   "cell_type": "code",
   "execution_count": null,
   "metadata": {},
   "outputs": [],
   "source": [
    "array([[1621, 1033],\n",
    "       [ 669, 2437]], dtype=int64)"
   ]
  },
  {
   "cell_type": "code",
   "execution_count": 39,
   "metadata": {},
   "outputs": [],
   "source": [
    "# encoding=OneHotEncoder()\n",
    "df_test_cat=pd.DataFrame(encoding.transform(test[categorical_col]).toarray(),columns=encoding.get_feature_names_out())\n",
    "\n",
    "# ss=StandardScaler()\n",
    "df_test_num=pd.DataFrame(ss.transform(test[numerical_col]),columns=ss.get_feature_names_out())\n",
    "\n",
    "# pca=PCA(n_components=2,random_state=42)\n",
    "df_test_pca=pd.DataFrame(pca.transform(df_test_cat),columns=[f'pca_{i}' for i in range(2)])\n",
    "\n",
    "# tsne = TSNE(n_components=2, perplexity=30, random_state=42)\n",
    "# df_test_tsne=pd.DataFrame(tsne.transform(df_test_cat),columns=[f'tsne_{i}' for i in range(2)])\n",
    "\n",
    "# umap_reducer=umap.UMAP(n_components=2)\n",
    "df_test_umap=pd.DataFrame(umap_reducer.transform(df_test_cat),columns=[f'umap_{i}' for i in range(2)])"
   ]
  },
  {
   "cell_type": "code",
   "execution_count": 42,
   "metadata": {},
   "outputs": [],
   "source": [
    "df_test=pd.concat([df_test_cat,df_test_umap,df_test_pca,df_test_num,test['year_hct']],axis=1)"
   ]
  },
  {
   "cell_type": "code",
   "execution_count": 51,
   "metadata": {},
   "outputs": [
    {
     "data": {
      "text/plain": [
       "array([0.1645842 , 0.70195895, 0.05603089])"
      ]
     },
     "execution_count": 51,
     "metadata": {},
     "output_type": "execute_result"
    }
   ],
   "source": [
    "model.predict_proba(df_test)[:,1]"
   ]
  },
  {
   "cell_type": "code",
   "execution_count": 54,
   "metadata": {},
   "outputs": [
    {
     "data": {
      "text/html": [
       "<div>\n",
       "<style scoped>\n",
       "    .dataframe tbody tr th:only-of-type {\n",
       "        vertical-align: middle;\n",
       "    }\n",
       "\n",
       "    .dataframe tbody tr th {\n",
       "        vertical-align: top;\n",
       "    }\n",
       "\n",
       "    .dataframe thead th {\n",
       "        text-align: right;\n",
       "    }\n",
       "</style>\n",
       "<table border=\"1\" class=\"dataframe\">\n",
       "  <thead>\n",
       "    <tr style=\"text-align: right;\">\n",
       "      <th></th>\n",
       "      <th>ID</th>\n",
       "      <th>prediction</th>\n",
       "    </tr>\n",
       "  </thead>\n",
       "  <tbody>\n",
       "    <tr>\n",
       "      <th>0</th>\n",
       "      <td>28800</td>\n",
       "      <td>0.164584</td>\n",
       "    </tr>\n",
       "    <tr>\n",
       "      <th>1</th>\n",
       "      <td>28801</td>\n",
       "      <td>0.701959</td>\n",
       "    </tr>\n",
       "    <tr>\n",
       "      <th>2</th>\n",
       "      <td>28802</td>\n",
       "      <td>0.056031</td>\n",
       "    </tr>\n",
       "  </tbody>\n",
       "</table>\n",
       "</div>"
      ],
      "text/plain": [
       "      ID  prediction\n",
       "0  28800    0.164584\n",
       "1  28801    0.701959\n",
       "2  28802    0.056031"
      ]
     },
     "execution_count": 54,
     "metadata": {},
     "output_type": "execute_result"
    }
   ],
   "source": [
    "test_sub=test[['ID']].copy()\n",
    "test_sub.loc[:,'prediction']=model.predict_proba(df_test)[:,1]\n",
    "test_sub"
   ]
  },
  {
   "cell_type": "code",
   "execution_count": null,
   "metadata": {},
   "outputs": [],
   "source": []
  },
  {
   "cell_type": "code",
   "execution_count": null,
   "metadata": {},
   "outputs": [
    {
     "name": "stdout",
     "output_type": "stream",
     "text": [
      "        _________  _.\n",
      ".__    |__ |__ | \\/ | \n",
      "|__\\__/|   |   |    |\n",
      "|   /\n",
      "\n"
     ]
    }
   ],
   "source": [
    "# from pyffm import PyFFM"
   ]
  },
  {
   "cell_type": "code",
   "execution_count": null,
   "metadata": {},
   "outputs": [],
   "source": []
  },
  {
   "cell_type": "code",
   "execution_count": null,
   "metadata": {},
   "outputs": [],
   "source": []
  },
  {
   "cell_type": "code",
   "execution_count": 8,
   "metadata": {},
   "outputs": [],
   "source": [
    "training_params = {'epochs': 2, 'reg_lambda': 0.002}\n",
    "pyffm = PyFFM(model='ffm', training_params=training_params)"
   ]
  },
  {
   "cell_type": "code",
   "execution_count": 9,
   "metadata": {},
   "outputs": [],
   "source": [
    "df=pd.concat([df_cat,df_tsne,df_num,train[target_col]],axis=1)\n",
    "X=df.drop(['efs_time','race_group'],axis=1)\n",
    "X.rename(columns={'efs':'click'},inplace=True)\n",
    "X_train,X_valid=train_test_split(X,train_size=0.6,random_state=42)"
   ]
  },
  {
   "cell_type": "code",
   "execution_count": 10,
   "metadata": {},
   "outputs": [
    {
     "name": "stdout",
     "output_type": "stream",
     "text": [
      "[2025-03-03 10:36:55,598.598] -     INFO: pyffm.pyffm -- Formatting dataframe\n",
      "[2025-03-03 10:37:28,491.491] -     INFO: pyffm.engine.ffm_engine -- Creating ffm model with 301 fields and 62910 features.\n",
      "[2025-03-03 10:37:29,774.774] -     INFO: pyffm.engine.ffm_engine -- Epoch 0\n",
      "[2025-03-03 10:37:29,774.774] -     INFO: pyffm.engine.ffm_engine -- Training on 15552 rows.\n"
     ]
    },
    {
     "ename": "",
     "evalue": "",
     "output_type": "error",
     "traceback": [
      "\u001b[1;31mThe Kernel crashed while executing code in the current cell or a previous cell. \n",
      "\u001b[1;31mPlease review the code in the cell(s) to identify a possible cause of the failure. \n",
      "\u001b[1;31mClick <a href='https://aka.ms/vscodeJupyterKernelCrash'>here</a> for more info. \n",
      "\u001b[1;31mView Jupyter <a href='command:jupyter.viewOutput'>log</a> for further details."
     ]
    }
   ],
   "source": [
    "pyffm.train(X_train)"
   ]
  },
  {
   "cell_type": "code",
   "execution_count": 14,
   "metadata": {},
   "outputs": [
    {
     "name": "stdout",
     "output_type": "stream",
     "text": [
      "[2025-03-03 09:58:18,440.440] -     INFO: pyffm.pyffm -- Formatting predict data\n",
      "[2025-03-03 09:58:18,440.440] -     INFO: pyffm.pyffm -- Formatting dataframe\n",
      "[2025-03-03 09:59:28,595.595] -     INFO: pyffm.engine.ffm_engine -- Batch predicting...\n"
     ]
    }
   ],
   "source": [
    "pred=pyffm.predict(X_valid)"
   ]
  },
  {
   "cell_type": "code",
   "execution_count": 16,
   "metadata": {},
   "outputs": [
    {
     "data": {
      "text/plain": [
       "array([[10621,     0],\n",
       "       [12419,     0]], dtype=int64)"
      ]
     },
     "execution_count": 16,
     "metadata": {},
     "output_type": "execute_result"
    }
   ],
   "source": [
    "confusion_matrix(X_valid.click,pred)"
   ]
  },
  {
   "cell_type": "code",
   "execution_count": 17,
   "metadata": {},
   "outputs": [
    {
     "data": {
      "text/plain": [
       "1.0    12419\n",
       "0.0    10621\n",
       "Name: click, dtype: int64"
      ]
     },
     "execution_count": 17,
     "metadata": {},
     "output_type": "execute_result"
    }
   ],
   "source": [
    "X_valid.click.value_counts()"
   ]
  },
  {
   "cell_type": "code",
   "execution_count": 18,
   "metadata": {},
   "outputs": [
    {
     "data": {
      "text/plain": [
       "1.0    3113\n",
       "0.0    2647\n",
       "Name: click, dtype: int64"
      ]
     },
     "execution_count": 18,
     "metadata": {},
     "output_type": "execute_result"
    }
   ],
   "source": [
    "X_train.click.value_counts()"
   ]
  },
  {
   "cell_type": "code",
   "execution_count": null,
   "metadata": {},
   "outputs": [],
   "source": [
    "array([[1623, 1031],\n",
    "       [ 655, 2451]], dtype=int64)"
   ]
  },
  {
   "cell_type": "code",
   "execution_count": null,
   "metadata": {},
   "outputs": [],
   "source": []
  },
  {
   "cell_type": "code",
   "execution_count": null,
   "metadata": {},
   "outputs": [],
   "source": []
  },
  {
   "cell_type": "code",
   "execution_count": null,
   "metadata": {},
   "outputs": [],
   "source": [
    "# import ffm\n",
    "\n",
    "# # Prepare data in (field, index, value) format\n",
    "# X = [[(1, 2, 1), (2, 3, 1), (3, 5, 1)],\n",
    "#      [(1, 0, 1), (2, 3, 1), (3, 7, 1)],\n",
    "#      [(1, 1, 1), (2, 3, 1), (3, 7, 1), (3, 9, 1)],\n",
    "#      [(1, 0, 1), (2, 3, 1), (3, 5, 1)]]\n",
    "# y = [1, 1, 0, 1]\n",
    "\n",
    "# ffm_data = ffm.FFMData(X, y)\n",
    "\n",
    "# # Train model\n",
    "# model = ffm.FFM(eta=0.1, lam=0.0001, k=4)\n",
    "# model.fit(ffm_data, num_iter=10)\n",
    "\n",
    "# # Make predictions\n",
    "# print(model.predict_proba(ffm_data))\n"
   ]
  },
  {
   "cell_type": "code",
   "execution_count": null,
   "metadata": {},
   "outputs": [],
   "source": []
  }
 ],
 "metadata": {
  "kernelspec": {
   "display_name": "Python 3",
   "language": "python",
   "name": "python3"
  },
  "language_info": {
   "codemirror_mode": {
    "name": "ipython",
    "version": 3
   },
   "file_extension": ".py",
   "mimetype": "text/x-python",
   "name": "python",
   "nbconvert_exporter": "python",
   "pygments_lexer": "ipython3",
   "version": "3.8.0"
  }
 },
 "nbformat": 4,
 "nbformat_minor": 2
}
